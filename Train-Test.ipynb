{
 "cells": [
  {
   "cell_type": "code",
   "execution_count": 1,
   "metadata": {},
   "outputs": [],
   "source": [
    "import numpy as np\n",
    "import pandas as pd\n",
    "import operator\n",
    "import matplotlib.pyplot as plt\n",
    "from scipy.sparse import csr_matrix\n",
    "from tqdm import tqdm\n",
    "from collections import OrderedDict\n",
    "import csv"
   ]
  },
  {
   "cell_type": "code",
   "execution_count": 3,
   "metadata": {},
   "outputs": [],
   "source": [
    "import numpy as np\n",
    "import pandas as pd\n",
    "import operator\n",
    "import matplotlib.pyplot as plt\n",
    "from scipy.sparse import csr_matrix\n",
    "from tqdm import tqdm\n",
    "from collections import OrderedDict\n",
    "import csv\n",
    "\n",
    "base = 'ML-1M'\n",
    "directory = \"../data/ml-100k/u.data\"\n",
    "sep = '\\t'\n",
    "header = False\n",
    "timestamp_exists = True\n",
    "\n",
    "numRatings = sum(1 for line in open(directory))\n",
    "usersId = np.zeros(numRatings, dtype=np.int32)\n",
    "itemsId = np.zeros(numRatings, dtype=np.int16)\n",
    "ratings = np.zeros(numRatings, dtype=np.int8)\n",
    "timestamp = np.zeros(numRatings, dtype=np.int32)\n",
    "\n",
    "# Leitura do arquivo\n",
    "def get_max_uid_iid(directory):\n",
    "\n",
    "\tmax_uid, max_iid = -1, -1\n",
    "\tfile = open(directory, \"r\")\n",
    "\tif header: file.readline()\n",
    "\tfor row in file:\n",
    "\t\tvalues = row.split(sep)\n",
    "\t\tuid, iid = int(values[0]),int(values[1])\n",
    "\t\tif uid > max_uid: max_uid = uid\n",
    "\t\tif iid > max_iid: max_iid = iid\n",
    "\n",
    "\treturn max_uid, max_iid\n",
    "\n",
    "def read_archive(directory):\n",
    "\n",
    "\tfile = open(directory, \"r\")\n",
    "\tmax_uid, max_iid = get_max_uid_iid(directory)\n",
    "\t\n",
    "\tbackup_uid = np.full(max_uid+1, -1, dtype=np.int32)\n",
    "\tbackup_iid = np.full(max_iid+1, -1, dtype=np.int32)\n",
    "\t\n",
    "\tcont, iid_seq, uid_seq = 0, 0, 0\n",
    "\n",
    "\tif header: file.readline()\n",
    "\tfor row in file:\n",
    "\t\t\n",
    "\t\tvalues = row.split(sep)\n",
    "\t\tuid, iid, rating, ts = int(values[0]),int(values[1]),values[2], int(values[3].replace('\\n', ''))\n",
    "\t\t\n",
    "\t\tif backup_uid[uid] == -1:\n",
    "\t\t\tbackup_uid[uid] = uid_seq\n",
    "\t\t\tuid_seq += 1\n",
    "\n",
    "\t\tif backup_iid[iid] == -1:\n",
    "\t\t\tbackup_iid[iid] = iid_seq\n",
    "\t\t\tiid_seq += 1\n",
    "\n",
    "\t\tusersId[cont] = backup_uid[uid]\n",
    "\t\titemsId[cont] = backup_iid[iid]\n",
    "\t\tratings[cont] = rating\n",
    "\t\tif timestamp_exists: timestamp[cont] = ts\n",
    "\t\telse: timestamp[cont] = cont\n",
    "\t\tcont += 1\n",
    "\t\t\n",
    "\tfile.close()\n",
    "\treturn usersId, itemsId, ratings, timestamp, backup_uid, backup_iid"
   ]
  },
  {
   "cell_type": "code",
   "execution_count": 5,
   "metadata": {},
   "outputs": [],
   "source": [
    "usersId, itemsId, ratings, timestamp, backup_uid, backup_iid = read_archive(directory)"
   ]
  },
  {
   "cell_type": "code",
   "execution_count": 6,
   "metadata": {},
   "outputs": [
    {
     "name": "stdout",
     "output_type": "stream",
     "text": [
      "1682 943\n"
     ]
    }
   ],
   "source": [
    "num_movies = len(np.unique(itemsId))\n",
    "num_users = len(np.unique(usersId))\n",
    "print(num_movies, num_users)"
   ]
  },
  {
   "cell_type": "code",
   "execution_count": 15,
   "metadata": {},
   "outputs": [],
   "source": [
    "ratings_matrix = csr_matrix((ratings, (usersId, itemsId)), shape=(num_users+1, num_movies+1))\n",
    "timestamp_matrix = csr_matrix((timestamp, (usersId, itemsId)), shape=(num_users+1, num_movies+1))"
   ]
  },
  {
   "cell_type": "code",
   "execution_count": 9,
   "metadata": {},
   "outputs": [
    {
     "data": {
      "text/plain": [
       "0"
      ]
     },
     "execution_count": 9,
     "metadata": {},
     "output_type": "execute_result"
    }
   ],
   "source": [
    "backup_uid[196]"
   ]
  },
  {
   "cell_type": "code",
   "execution_count": 17,
   "metadata": {},
   "outputs": [
    {
     "data": {
      "text/plain": [
       "522"
      ]
     },
     "execution_count": 17,
     "metadata": {},
     "output_type": "execute_result"
    }
   ],
   "source": [
    "backup_iid[251]"
   ]
  },
  {
   "cell_type": "code",
   "execution_count": 18,
   "metadata": {},
   "outputs": [
    {
     "data": {
      "text/plain": [
       "881251274"
      ]
     },
     "execution_count": 18,
     "metadata": {},
     "output_type": "execute_result"
    }
   ],
   "source": [
    "timestamp_matrix[0,522]"
   ]
  },
  {
   "cell_type": "markdown",
   "metadata": {},
   "source": [
    " ### Base: ML-1M"
   ]
  },
  {
   "cell_type": "code",
   "execution_count": null,
   "metadata": {},
   "outputs": [],
   "source": [
    "np.N"
   ]
  },
  {
   "cell_type": "code",
   "execution_count": 2,
   "metadata": {},
   "outputs": [],
   "source": [
    "# numRatings = 1000209\n",
    "numRatings = 5976479"
   ]
  },
  {
   "cell_type": "code",
   "execution_count": 3,
   "metadata": {},
   "outputs": [],
   "source": [
    "usersId = np.zeros(numRatings, dtype=np.int32)\n",
    "itemsId = np.zeros(numRatings, dtype=np.int16)\n",
    "ratings = np.zeros(numRatings, dtype=np.int8)\n",
    "timestamp = np.zeros(numRatings, dtype=np.int32)"
   ]
  },
  {
   "cell_type": "markdown",
   "metadata": {},
   "source": [
    "### Leitura do arquivo"
   ]
  },
  {
   "cell_type": "code",
   "execution_count": 5,
   "metadata": {},
   "outputs": [],
   "source": [
    "# file = open(\"../data/ml-1m/ratings.dat\", \"r\")\n",
    "file = open(\"../data/GoodBooks/ratings.csv\", \"r\")\n",
    "# file.readline()\n",
    "backupId = {}\n",
    "cont = 0\n",
    "iid = 1\n",
    "for row in file:\n",
    "    \n",
    "    values = row.split(',')\n",
    "    usersId[cont] = int(values[0])\n",
    "    \n",
    "    if int(values[1]) not in backupId:\n",
    "        backupId[int(values[1])] = iid\n",
    "        iid+=1\n",
    "    \n",
    "    itemsId[cont] = backupId[int(values[1])]\n",
    "    ratings[cont] = int(values[2])\n",
    "#     timestamp[cont] = int(values[3].replace('\\n', ''))\n",
    "    timestamp[cont] = cont\n",
    "    cont += 1\n",
    "    \n",
    "file.close()"
   ]
  },
  {
   "cell_type": "code",
   "execution_count": 6,
   "metadata": {},
   "outputs": [
    {
     "name": "stdout",
     "output_type": "stream",
     "text": [
      "Número de usuários:  53424\n",
      "Número de filmes:  10000\n"
     ]
    }
   ],
   "source": [
    "numMovies = len(np.unique(itemsId))\n",
    "numUsers = len(np.unique(usersId))\n",
    "print(\"Número de usuários: \", numUsers)\n",
    "print(\"Número de filmes: \", numMovies)"
   ]
  },
  {
   "cell_type": "markdown",
   "metadata": {},
   "source": [
    "### Criando as matrizes de ratings e timestamp"
   ]
  },
  {
   "cell_type": "code",
   "execution_count": 7,
   "metadata": {},
   "outputs": [
    {
     "name": "stdout",
     "output_type": "stream",
     "text": [
      "Número de usuários:  53424\n",
      "Matriz de ratings:  (53425, 10001)\n",
      "Matriz de timestamp:  (53425, 10001)\n"
     ]
    }
   ],
   "source": [
    "# matrix of ratings\n",
    "ratings_matrix = csr_matrix((ratings, (usersId, itemsId)), shape=(numUsers+1, numMovies+1))\n",
    "\n",
    "# matrix of timestamp\n",
    "timestamp_matrix = csr_matrix((timestamp, (usersId, itemsId)), shape=(numUsers+1, numMovies+1))\n",
    "\n",
    "users_dataset = np.unique(usersId)\n",
    "print(\"Número de usuários: \", len(users_dataset))\n",
    "print(\"Matriz de ratings: \", ratings_matrix.shape)\n",
    "print(\"Matriz de timestamp: \", timestamp_matrix.shape)"
   ]
  },
  {
   "cell_type": "markdown",
   "metadata": {},
   "source": [
    "### Ordenando os usuários pelo timestamp"
   ]
  },
  {
   "cell_type": "code",
   "execution_count": 13,
   "metadata": {},
   "outputs": [
    {
     "name": "stdout",
     "output_type": "stream",
     "text": [
      "Número de usuários para o treino:  42739\n",
      "Número dos novos usuários selecionados: : 10685\n"
     ]
    }
   ],
   "source": [
    "user_access = {}\n",
    "for u in users_dataset:\n",
    "    user_access[u] = np.min(timestamp_matrix[u,:].data)\n",
    "    \n",
    "dict_sorted = OrderedDict(sorted(user_access.items(), key=operator.itemgetter(1), reverse = True))\n",
    "users_order = list(dict_sorted.keys())\n",
    "\n",
    "users_train = []\n",
    "users_test = []\n",
    "\n",
    "num_user_test = 0\n",
    "for i in users_order:\n",
    "#     print(len(ratings_matrix[i].data))\n",
    "    if len(ratings_matrix[i].data) >= 120 and num_user_test < 10685: \n",
    "        users_test.append(i)\n",
    "        num_user_test += 1\n",
    "    else: users_train.append(i)\n",
    "        \n",
    "print(\"Número de usuários para o treino: \", len(users_train))\n",
    "print(\"Número dos novos usuários selecionados: :\", len(users_test))"
   ]
  },
  {
   "cell_type": "code",
   "execution_count": 14,
   "metadata": {},
   "outputs": [
    {
     "data": {
      "text/plain": [
       "10685"
      ]
     },
     "execution_count": 14,
     "metadata": {},
     "output_type": "execute_result"
    }
   ],
   "source": [
    "num_user_test"
   ]
  },
  {
   "cell_type": "markdown",
   "metadata": {},
   "source": [
    "### Separando o treino e teste"
   ]
  },
  {
   "cell_type": "code",
   "execution_count": 15,
   "metadata": {},
   "outputs": [
    {
     "name": "stdout",
     "output_type": "stream",
     "text": [
      "Users in train and test sets:\n",
      "Train: 42739\n",
      "Test: 10685\n",
      "Total: 53424\n"
     ]
    }
   ],
   "source": [
    "# Selecting the last users to join to the system\n",
    "# users_train = users_order[0:nb_users]\n",
    "# users_test = users_order[nb_users:len(users_dataset)]\n",
    "\n",
    "print(\"Users in train and test sets:\")\n",
    "print(\"Train:\", len(users_train))\n",
    "print(\"Test:\", len(users_test))\n",
    "print(\"Total:\", len(users_train) + len(users_test))"
   ]
  },
  {
   "cell_type": "code",
   "execution_count": 17,
   "metadata": {},
   "outputs": [
    {
     "data": {
      "text/plain": [
       "5976479"
      ]
     },
     "execution_count": 17,
     "metadata": {},
     "output_type": "execute_result"
    }
   ],
   "source": [
    "numRatings"
   ]
  },
  {
   "cell_type": "code",
   "execution_count": 18,
   "metadata": {},
   "outputs": [
    {
     "name": "stderr",
     "output_type": "stream",
     "text": [
      "100%|██████████| 5976479/5976479 [1:19:44<00:00, 1249.09it/s]\n"
     ]
    },
    {
     "name": "stdout",
     "output_type": "stream",
     "text": [
      "4501704  <>  1474775\n"
     ]
    },
    {
     "data": {
      "text/plain": [
       "(1474775, 4)"
      ]
     },
     "execution_count": 18,
     "metadata": {},
     "output_type": "execute_result"
    }
   ],
   "source": [
    "pos_train = []\n",
    "pos_test = []\n",
    "\n",
    "for itr in tqdm(range(0,numRatings), position=0, leave=True):\n",
    "    # selecting for train or test\n",
    "    if (usersId[itr] in users_train):\n",
    "        pos_train.append(itr)\n",
    "    elif (usersId[itr] in users_test):\n",
    "        pos_test.append(itr)\n",
    "    else:\n",
    "        print(\"Error: User [\"+str(usersId[itr])+\"] does not identified.\")\n",
    "\n",
    "\n",
    "print(len(pos_train), \" <> \", len(pos_test))\n",
    "\n",
    "# Spliting the sets\n",
    "matrix_train = np.zeros((len(pos_train),4), dtype = int)\n",
    "matrix_test = np.zeros((len(pos_test),4))\n",
    "\n",
    "# train set\n",
    "matrix_train[:,0] = usersId[pos_train[:]]\n",
    "matrix_train[:,1] = itemsId[pos_train[:]]\n",
    "matrix_train[:,2] = ratings[pos_train[:]]\n",
    "matrix_train[:,3] = timestamp[pos_train[:]]\n",
    "\n",
    "# test set\n",
    "matrix_test[:,0] = usersId[pos_test[:]]\n",
    "matrix_test[:,1] = itemsId[pos_test[:]]\n",
    "matrix_test[:,2] = ratings[pos_test[:]]\n",
    "matrix_test[:,3] = timestamp[pos_test[:]]\n",
    "\n",
    "matrix_train.shape\n",
    "matrix_test.shape"
   ]
  },
  {
   "cell_type": "code",
   "execution_count": 19,
   "metadata": {},
   "outputs": [
    {
     "name": "stdout",
     "output_type": "stream",
     "text": [
      "(488025, 4) (512184, 4)\n"
     ]
    }
   ],
   "source": [
    "print(matrix_train.shape, matrix_test.shape)"
   ]
  },
  {
   "cell_type": "markdown",
   "metadata": {},
   "source": [
    "### Salvando o treino e teste"
   ]
  },
  {
   "cell_type": "code",
   "execution_count": 19,
   "metadata": {},
   "outputs": [],
   "source": [
    "# Saving into files\n",
    "np.savetxt(\"trainSet_good-books.data\", \n",
    "\t\t   matrix_train, delimiter=\"::\", header = str(\"userId::itemId::rating::timestamp\"), fmt = '%d')\n",
    "np.savetxt(\"testSet_goog-books.data\", \n",
    "\t\t   matrix_test, delimiter=\"::\", header = str(\"userId::itemId::rating::timestamp\"), fmt = '%d')\n",
    "    "
   ]
  },
  {
   "cell_type": "code",
   "execution_count": null,
   "metadata": {},
   "outputs": [],
   "source": []
  }
 ],
 "metadata": {
  "kernelspec": {
   "display_name": "Python 3",
   "language": "python",
   "name": "python3"
  },
  "language_info": {
   "codemirror_mode": {
    "name": "ipython",
    "version": 3
   },
   "file_extension": ".py",
   "mimetype": "text/x-python",
   "name": "python",
   "nbconvert_exporter": "python",
   "pygments_lexer": "ipython3",
   "version": "3.6.9"
  }
 },
 "nbformat": 4,
 "nbformat_minor": 2
}
